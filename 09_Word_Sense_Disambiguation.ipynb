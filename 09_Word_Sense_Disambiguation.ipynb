{
  "cells": [
    {
      "cell_type": "markdown",
      "metadata": {
        "id": "LU6-jNGWdYFY"
      },
      "source": [
        "# Word Sense Disambiguation\n",
        "Program to perform word sense disambiguation"
      ]
    },
    {
      "cell_type": "code",
      "execution_count": 1,
      "metadata": {
        "colab": {
          "base_uri": "https://localhost:8080/"
        },
        "id": "2bUvAF_CdeVH",
        "outputId": "b75ca0af-4296-42e0-cd97-0f2e0a11383e"
      },
      "outputs": [
        {
          "name": "stderr",
          "output_type": "stream",
          "text": [
            "[nltk_data] Downloading package wordnet to\n",
            "[nltk_data]     C:\\Users\\JYOTI\\AppData\\Roaming\\nltk_data...\n",
            "[nltk_data]   Package wordnet is already up-to-date!\n"
          ]
        },
        {
          "name": "stdout",
          "output_type": "stream",
          "text": [
            "Synset('savings_bank.n.02')\n",
            "Synset('savings_bank.n.02')\n"
          ]
        }
      ],
      "source": [
        "import nltk\n",
        "nltk.download('wordnet')\n",
        "from nltk.wsd import lesk\n",
        "sent = ['I', 'went', 'to', 'the', 'bank', 'to', 'deposit', 'money', '.']\n",
        "print(lesk(sent, 'bank', 'n'))\n",
        "print(lesk(sent, 'bank'))\n"
      ]
    },
    {
      "cell_type": "code",
      "execution_count": 2,
      "metadata": {
        "colab": {
          "base_uri": "https://localhost:8080/"
        },
        "id": "TOS-KHN-OFfj",
        "outputId": "f1e8feff-1cd5-48d9-b401-9e11ea59111f"
      },
      "outputs": [
        {
          "name": "stdout",
          "output_type": "stream",
          "text": [
            "Synset('bank.n.01') sloping land (especially the slope beside a body of water)\n",
            "Synset('depository_financial_institution.n.01') a financial institution that accepts deposits and channels the money into lending activities\n",
            "Synset('bank.n.03') a long ridge or pile\n",
            "Synset('bank.n.04') an arrangement of similar objects in a row or in tiers\n",
            "Synset('bank.n.05') a supply or stock held in reserve for future use (especially in emergencies)\n",
            "Synset('bank.n.06') the funds held by a gambling house or the dealer in some gambling games\n",
            "Synset('bank.n.07') a slope in the turn of a road or track; the outside is higher than the inside in order to reduce the effects of centrifugal force\n",
            "Synset('savings_bank.n.02') a container (usually with a slot in the top) for keeping money at home\n",
            "Synset('bank.n.09') a building in which the business of banking transacted\n",
            "Synset('bank.n.10') a flight maneuver; aircraft tips laterally about its longitudinal axis (especially in turning)\n",
            "Synset('bank.v.01') tip laterally\n",
            "Synset('bank.v.02') enclose with a bank\n",
            "Synset('bank.v.03') do business with a bank or keep an account at a bank\n",
            "Synset('bank.v.04') act as the banker in a game or in gambling\n",
            "Synset('bank.v.05') be in the banking business\n",
            "Synset('deposit.v.02') put into a bank account\n",
            "Synset('bank.v.07') cover with ashes so to control the rate of burning\n",
            "Synset('trust.v.01') have confidence or faith in\n"
          ]
        }
      ],
      "source": [
        "# The definitions for “bank” are\n",
        "from nltk.corpus import wordnet as wn\n",
        "for ss in wn.synsets('bank'):\n",
        "  print(ss, ss.definition())"
      ]
    },
    {
      "cell_type": "code",
      "execution_count": 5,
      "metadata": {
        "id": "zdWJtdleO0qP"
      },
      "outputs": [],
      "source": [
        "# Test disambiguation of POS tagged able\n",
        "[(s, s.pos()) for s in wn.synsets('able')]\n",
        "sent = 'people should be able to marry a person of their choice'.split()\n",
        "lesk(sent, 'able')\n",
        "lesk(sent, 'able', pos='a')\n",
        "# Test behavior if there is are no matching senses.\n",
        "lesk('John loves Mary'.split(), 'loves', synsets=[])"
      ]
    }
  ],
  "metadata": {
    "colab": {
      "collapsed_sections": [
        "mC2A_YJbmUFm",
        "j_XsVX1lmevr",
        "rga7frP5mhSz",
        "0rZE5K20cREA",
        "UAaiNxfUcT0K",
        "KnNVsC7hcZNK"
      ],
      "name": "NLP_Ex_1_to_6.ipynb",
      "provenance": []
    },
    "kernelspec": {
      "display_name": "Python 3.10.5 64-bit (windows store)",
      "language": "python",
      "name": "python3"
    },
    "language_info": {
      "codemirror_mode": {
        "name": "ipython",
        "version": 3
      },
      "file_extension": ".py",
      "mimetype": "text/x-python",
      "name": "python",
      "nbconvert_exporter": "python",
      "pygments_lexer": "ipython3",
      "version": "3.10.5"
    },
    "vscode": {
      "interpreter": {
        "hash": "48e4ea11381a31c2d275b6c719b15ddb9313194b71994cea782ec5a9fea096e0"
      }
    }
  },
  "nbformat": 4,
  "nbformat_minor": 0
}
