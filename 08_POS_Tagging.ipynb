{
  "cells": [
    {
      "cell_type": "markdown",
      "metadata": {
        "id": "OQY9ALakdReB"
      },
      "source": [
        "# POS Tagging\n",
        "Program to allocate POS tags to a loaded text file using Wordnet"
      ]
    },
    {
      "cell_type": "code",
      "execution_count": 2,
      "metadata": {
        "colab": {
          "base_uri": "https://localhost:8080/"
        },
        "id": "q4t_8ks9dXnB",
        "outputId": "3107ab6d-51f8-426d-edcb-d72069ca43bb"
      },
      "outputs": [
        {
          "name": "stderr",
          "output_type": "stream",
          "text": [
            "[nltk_data] Downloading package punkt to\n",
            "[nltk_data]     C:\\Users\\JYOTI\\AppData\\Roaming\\nltk_data...\n",
            "[nltk_data]   Package punkt is already up-to-date!\n",
            "[nltk_data] Downloading package averaged_perceptron_tagger to\n",
            "[nltk_data]     C:\\Users\\JYOTI\\AppData\\Roaming\\nltk_data...\n",
            "[nltk_data]   Package averaged_perceptron_tagger is already up-to-\n",
            "[nltk_data]       date!\n"
          ]
        }
      ],
      "source": [
        "import nltk\n",
        "nltk.download('punkt')\n",
        "nltk.download('averaged_perceptron_tagger')\n",
        "from nltk import pos_tag, word_tokenize"
      ]
    },
    {
      "cell_type": "code",
      "execution_count": 3,
      "metadata": {},
      "outputs": [
        {
          "name": "stdout",
          "output_type": "stream",
          "text": [
            "[('This', 'DT'), ('is', 'VBZ'), ('a', 'DT'), ('demo', 'JJ'), ('text', 'NN'), ('by', 'IN'), ('Jyoti', 'NNP'), ('Maurya', 'NNP'), ('for', 'IN'), ('testing', 'VBG'), ('POS', 'NNP'), ('tag', 'JJ'), ('assignment', 'NN'), ('.', '.')]\n"
          ]
        }
      ],
      "source": [
        "sentence = \"This is a demo text by Jyoti Maurya for testing POS tag assignment.\"\n",
        "tokenized_sentence = word_tokenize(sentence)\n",
        "print(pos_tag(tokenized_sentence))"
      ]
    },
    {
      "cell_type": "code",
      "execution_count": 4,
      "metadata": {
        "id": "oqqNqak9STth"
      },
      "outputs": [],
      "source": [
        "from nltk.tag import SequentialBackoffTagger\n",
        "from nltk.corpus import wordnet\n",
        "from nltk.probability import FreqDist\n",
        "\n",
        "class WordNetTagger(SequentialBackoffTagger):\n",
        "  def __init__(self, *args, **kwargs):\n",
        "    SequentialBackoffTagger.__init__(self, *args, **kwargs)\n",
        "    self.wordnet_tag_map = {\n",
        "        'n': 'NN',\n",
        "        's': 'JJ',\n",
        "        'a': 'JJ',\n",
        "        'r': 'RB',\n",
        "        'v': 'VB'\n",
        "        }\n",
        "  def choose_tag(self, tokens, index, history):\n",
        "    word = tokens[index]\n",
        "    fd = FreqDist()\n",
        "    \n",
        "    for synset in wordnet.synsets(word):\n",
        "      fd[synset.pos()] += 1\n",
        "    return self.wordnet_tag_map.get(fd.max())"
      ]
    },
    {
      "cell_type": "code",
      "execution_count": 6,
      "metadata": {
        "colab": {
          "base_uri": "https://localhost:8080/"
        },
        "id": "M3dKOJAfTHTN",
        "outputId": "00b82091-83c3-4e84-8334-059053cf1533"
      },
      "outputs": [
        {
          "data": {
            "text/plain": [
              "[('Food', 'NN'), ('is', 'VB'), ('best', 'JJ')]"
            ]
          },
          "execution_count": 6,
          "metadata": {},
          "output_type": "execute_result"
        }
      ],
      "source": [
        "import nltk\n",
        "#nltk.download('wordnet')\n",
        "wt = WordNetTagger()\n",
        "wt.tag(['Food', 'is', 'best'])"
      ]
    }
  ],
  "metadata": {
    "colab": {
      "collapsed_sections": [
        "mC2A_YJbmUFm",
        "j_XsVX1lmevr",
        "rga7frP5mhSz",
        "0rZE5K20cREA",
        "UAaiNxfUcT0K",
        "KnNVsC7hcZNK"
      ],
      "name": "NLP_Ex_1_to_6.ipynb",
      "provenance": []
    },
    "kernelspec": {
      "display_name": "Python 3.10.5 64-bit (windows store)",
      "language": "python",
      "name": "python3"
    },
    "language_info": {
      "codemirror_mode": {
        "name": "ipython",
        "version": 3
      },
      "file_extension": ".py",
      "mimetype": "text/x-python",
      "name": "python",
      "nbconvert_exporter": "python",
      "pygments_lexer": "ipython3",
      "version": "3.10.5"
    },
    "vscode": {
      "interpreter": {
        "hash": "48e4ea11381a31c2d275b6c719b15ddb9313194b71994cea782ec5a9fea096e0"
      }
    }
  },
  "nbformat": 4,
  "nbformat_minor": 0
}
