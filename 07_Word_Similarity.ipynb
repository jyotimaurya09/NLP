{
  "cells": [
    {
      "cell_type": "markdown",
      "metadata": {
        "id": "KnNVsC7hcZNK"
      },
      "source": [
        "# Word Similarity\n",
        "Install and implement english wordnet to determine the similarity between words"
      ]
    },
    {
      "cell_type": "code",
      "execution_count": 2,
      "metadata": {
        "colab": {
          "base_uri": "https://localhost:8080/"
        },
        "id": "d_yZE7auW2lX",
        "outputId": "4769412c-c233-47f8-987b-48cf72f0e662"
      },
      "outputs": [
        {
          "name": "stdout",
          "output_type": "stream",
          "text": [
            "Hello :  hello.n.01\n",
            "Selling :  selling.n.01\n",
            "\n",
            "Similarity between these two words\n"
          ]
        },
        {
          "name": "stderr",
          "output_type": "stream",
          "text": [
            "[nltk_data] Downloading package wordnet to\n",
            "[nltk_data]     C:\\Users\\JYOTI\\AppData\\Roaming\\nltk_data...\n",
            "[nltk_data]   Package wordnet is already up-to-date!\n"
          ]
        },
        {
          "data": {
            "text/plain": [
              "0.26666666666666666"
            ]
          },
          "execution_count": 2,
          "metadata": {},
          "output_type": "execute_result"
        }
      ],
      "source": [
        "# Install and implement english wordnet to determine the similarity between words\n",
        "\n",
        "import nltk\n",
        "nltk.download('wordnet')\n",
        "from nltk.corpus import wordnet\n",
        "\n",
        "syn1 = wordnet.synsets('hello')[0]\n",
        "syn2 = wordnet.synsets('selling')[0]\n",
        "\n",
        "print(\"Hello : \",syn1.name())\n",
        "print(\"Selling : \", syn2.name())\n",
        "print(\"\\nSimilarity between these two words\")\n",
        "\n",
        "syn1.wup_similarity(syn2)"
      ]
    },
    {
      "cell_type": "markdown",
      "metadata": {},
      "source": [
        "NOTE: Other method to download english wordnet: \"pip install wn\""
      ]
    }
  ],
  "metadata": {
    "colab": {
      "collapsed_sections": [
        "mC2A_YJbmUFm",
        "j_XsVX1lmevr",
        "rga7frP5mhSz",
        "0rZE5K20cREA",
        "UAaiNxfUcT0K",
        "KnNVsC7hcZNK"
      ],
      "name": "NLP_Ex_1_to_6.ipynb",
      "provenance": []
    },
    "kernelspec": {
      "display_name": "Python 3.10.5 64-bit (windows store)",
      "language": "python",
      "name": "python3"
    },
    "language_info": {
      "codemirror_mode": {
        "name": "ipython",
        "version": 3
      },
      "file_extension": ".py",
      "mimetype": "text/x-python",
      "name": "python",
      "nbconvert_exporter": "python",
      "pygments_lexer": "ipython3",
      "version": "3.10.5"
    },
    "vscode": {
      "interpreter": {
        "hash": "48e4ea11381a31c2d275b6c719b15ddb9313194b71994cea782ec5a9fea096e0"
      }
    }
  },
  "nbformat": 4,
  "nbformat_minor": 0
}
